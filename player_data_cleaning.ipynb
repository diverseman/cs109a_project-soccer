{
 "cells": [
  {
   "cell_type": "code",
   "execution_count": 42,
   "metadata": {},
   "outputs": [],
   "source": [
    "import pandas as pd\n",
    "import re"
   ]
  },
  {
   "cell_type": "code",
   "execution_count": 3,
   "metadata": {},
   "outputs": [],
   "source": [
    "player_file_list = ['players_15.csv', 'players_16.csv', 'players_17.csv', 'players_18.csv', 'players_19.csv', 'players_20.csv']\n",
    "input_directory = 'data/'\n",
    "output_directory = 'cleaned_data/'"
   ]
  },
  {
   "cell_type": "code",
   "execution_count": 55,
   "metadata": {},
   "outputs": [],
   "source": [
    "def clean_file_data(input_path, output_path):\n",
    "    df = pd.read_csv(input_path)\n",
    "    \n",
    "    column_number_fix_list = ['attacking_crossing', 'attacking_finishing', 'attacking_heading_accuracy', 'attacking_short_passing', \\\n",
    "                              'attacking_volleys', 'skill_dribbling', 'skill_curve', 'skill_fk_accuracy', 'skill_long_passing', \\\n",
    "                              'skill_ball_control', 'movement_acceleration', 'movement_sprint_speed', 'movement_agility', \\\n",
    "                              'movement_reactions', 'movement_balance', 'power_shot_power', 'power_jumping', 'power_stamina', \\\n",
    "                              'power_strength', 'power_long_shots', 'mentality_aggression', 'mentality_interceptions', \\\n",
    "                              'mentality_positioning', 'mentality_vision', 'mentality_penalties', 'mentality_composure', \\\n",
    "                              'defending_marking', 'defending_standing_tackle', 'defending_sliding_tackle', 'goalkeeping_diving', \\\n",
    "                              'goalkeeping_handling', 'goalkeeping_kicking', 'goalkeeping_positioning', 'goalkeeping_reflexes', \\\n",
    "                              'ls', 'st', 'rs', 'lw', 'lf', 'cf', 'rf', 'rw', 'lam', 'cam', 'ram', 'lm', 'lcm', 'cm', 'rcm', 'rm', \\\n",
    "                              'lwb', 'ldm', 'cdm', 'rdm', 'rwb', 'lb', 'lcb', 'cb', 'rcb', 'rb']\n",
    "    \n",
    "    pattern = r'^[\\d]+'\n",
    "    for index, row in df.iterrows():\n",
    "        for column in column_number_fix_list:\n",
    "            value = row[column]\n",
    "            if type(value) is str:\n",
    "                match = re.match(pattern, value)\n",
    "                if match:\n",
    "                    value = int(match[0])\n",
    "                    df.at[index, column] = value\n",
    "    \n",
    "    df.to_csv(output_path)"
   ]
  },
  {
   "cell_type": "code",
   "execution_count": 56,
   "metadata": {},
   "outputs": [],
   "source": [
    "for file_name in player_file_list:\n",
    "    \n",
    "    input_path = input_directory + file_name\n",
    "    output_path = output_directory + file_name\n",
    "    \n",
    "    clean_file_data(input_path, output_path)"
   ]
  },
  {
   "cell_type": "code",
   "execution_count": null,
   "metadata": {},
   "outputs": [],
   "source": []
  }
 ],
 "metadata": {
  "kernelspec": {
   "display_name": "Python 3",
   "language": "python",
   "name": "python3"
  },
  "language_info": {
   "codemirror_mode": {
    "name": "ipython",
    "version": 3
   },
   "file_extension": ".py",
   "mimetype": "text/x-python",
   "name": "python",
   "nbconvert_exporter": "python",
   "pygments_lexer": "ipython3",
   "version": "3.7.6"
  }
 },
 "nbformat": 4,
 "nbformat_minor": 4
}
