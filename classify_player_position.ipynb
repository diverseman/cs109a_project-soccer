{
 "cells": [
  {
   "cell_type": "code",
   "execution_count": 1,
   "metadata": {
    "pycharm": {
     "name": "#%%\n"
    }
   },
   "outputs": [],
   "source": [
    "import pandas as pd \n",
    "import numpy as np \n",
    "import matplotlib.pyplot as plt \n",
    "import  seaborn as sn \n",
    "from  sklearn.ensemble import RandomForestRegressor"
   ]
  },
  {
   "cell_type": "code",
   "execution_count": 2,
   "metadata": {
    "pycharm": {
     "name": "#%%\n"
    }
   },
   "outputs": [
    {
     "name": "stderr",
     "output_type": "stream",
     "text": [
      "C:\\Users\\Administrator\\AppData\\Local\\Temp\\ipykernel_17224\\2555656747.py:1: DtypeWarning: Columns (30) have mixed types. Specify dtype option on import or set low_memory=False.\n",
      "  fifa_19=pd.read_csv(r'cleaned_data/players_19.csv',index_col='Unnamed: 0')\n"
     ]
    },
    {
     "data": {
      "text/plain": "   sofifa_id                                         player_url  \\\n0     158023  https://sofifa.com/player/158023/lionel-messi/...   \n1      20801  https://sofifa.com/player/20801/c-ronaldo-dos-...   \n2     190871  https://sofifa.com/player/190871/neymar-da-sil...   \n3     200389  https://sofifa.com/player/200389/jan-oblak/20/...   \n4     183277  https://sofifa.com/player/183277/eden-hazard/2...   \n\n          short_name                            long_name  age         dob  \\\n0           L. Messi       Lionel Andrés Messi Cuccittini   32  1987-06-24   \n1  Cristiano Ronaldo  Cristiano Ronaldo dos Santos Aveiro   34  1985-02-05   \n2          Neymar Jr        Neymar da Silva Santos Junior   27  1992-02-05   \n3           J. Oblak                            Jan Oblak   26  1993-01-07   \n4          E. Hazard                          Eden Hazard   28  1991-01-07   \n\n   height_cm  weight_kg nationality                 club  ...  \\\n0        170         72   Argentina         FC Barcelona  ...   \n1        187         83    Portugal             Juventus  ...   \n2        175         68      Brazil  Paris Saint-Germain  ...   \n3        188         87    Slovenia      Atlético Madrid  ...   \n4        175         74     Belgium          Real Madrid  ...   \n\n   player_positions_gk  player_positions_cdm  player_positions_rm  \\\n0                    0                     0                    0   \n1                    0                     0                    0   \n2                    0                     0                    0   \n3                    1                     0                    0   \n4                    0                     0                    0   \n\n   player_positions_lm player_positions_cm player_positions_lw  \\\n0                    0                   0                   0   \n1                    0                   0                   1   \n2                    0                   0                   1   \n3                    0                   0                   0   \n4                    0                   0                   1   \n\n   player_positions_lb  player_positions_rb  player_positions_lwb  \\\n0                    0                    0                     0   \n1                    0                    0                     0   \n2                    0                    0                     0   \n3                    0                    0                     0   \n4                    0                    0                     0   \n\n  preferred_foot_bin  \n0                  1  \n1                  0  \n2                  0  \n3                  0  \n4                  0  \n\n[5 rows x 149 columns]",
      "text/html": "<div>\n<style scoped>\n    .dataframe tbody tr th:only-of-type {\n        vertical-align: middle;\n    }\n\n    .dataframe tbody tr th {\n        vertical-align: top;\n    }\n\n    .dataframe thead th {\n        text-align: right;\n    }\n</style>\n<table border=\"1\" class=\"dataframe\">\n  <thead>\n    <tr style=\"text-align: right;\">\n      <th></th>\n      <th>sofifa_id</th>\n      <th>player_url</th>\n      <th>short_name</th>\n      <th>long_name</th>\n      <th>age</th>\n      <th>dob</th>\n      <th>height_cm</th>\n      <th>weight_kg</th>\n      <th>nationality</th>\n      <th>club</th>\n      <th>...</th>\n      <th>player_positions_gk</th>\n      <th>player_positions_cdm</th>\n      <th>player_positions_rm</th>\n      <th>player_positions_lm</th>\n      <th>player_positions_cm</th>\n      <th>player_positions_lw</th>\n      <th>player_positions_lb</th>\n      <th>player_positions_rb</th>\n      <th>player_positions_lwb</th>\n      <th>preferred_foot_bin</th>\n    </tr>\n  </thead>\n  <tbody>\n    <tr>\n      <th>0</th>\n      <td>158023</td>\n      <td>https://sofifa.com/player/158023/lionel-messi/...</td>\n      <td>L. Messi</td>\n      <td>Lionel Andrés Messi Cuccittini</td>\n      <td>32</td>\n      <td>1987-06-24</td>\n      <td>170</td>\n      <td>72</td>\n      <td>Argentina</td>\n      <td>FC Barcelona</td>\n      <td>...</td>\n      <td>0</td>\n      <td>0</td>\n      <td>0</td>\n      <td>0</td>\n      <td>0</td>\n      <td>0</td>\n      <td>0</td>\n      <td>0</td>\n      <td>0</td>\n      <td>1</td>\n    </tr>\n    <tr>\n      <th>1</th>\n      <td>20801</td>\n      <td>https://sofifa.com/player/20801/c-ronaldo-dos-...</td>\n      <td>Cristiano Ronaldo</td>\n      <td>Cristiano Ronaldo dos Santos Aveiro</td>\n      <td>34</td>\n      <td>1985-02-05</td>\n      <td>187</td>\n      <td>83</td>\n      <td>Portugal</td>\n      <td>Juventus</td>\n      <td>...</td>\n      <td>0</td>\n      <td>0</td>\n      <td>0</td>\n      <td>0</td>\n      <td>0</td>\n      <td>1</td>\n      <td>0</td>\n      <td>0</td>\n      <td>0</td>\n      <td>0</td>\n    </tr>\n    <tr>\n      <th>2</th>\n      <td>190871</td>\n      <td>https://sofifa.com/player/190871/neymar-da-sil...</td>\n      <td>Neymar Jr</td>\n      <td>Neymar da Silva Santos Junior</td>\n      <td>27</td>\n      <td>1992-02-05</td>\n      <td>175</td>\n      <td>68</td>\n      <td>Brazil</td>\n      <td>Paris Saint-Germain</td>\n      <td>...</td>\n      <td>0</td>\n      <td>0</td>\n      <td>0</td>\n      <td>0</td>\n      <td>0</td>\n      <td>1</td>\n      <td>0</td>\n      <td>0</td>\n      <td>0</td>\n      <td>0</td>\n    </tr>\n    <tr>\n      <th>3</th>\n      <td>200389</td>\n      <td>https://sofifa.com/player/200389/jan-oblak/20/...</td>\n      <td>J. Oblak</td>\n      <td>Jan Oblak</td>\n      <td>26</td>\n      <td>1993-01-07</td>\n      <td>188</td>\n      <td>87</td>\n      <td>Slovenia</td>\n      <td>Atlético Madrid</td>\n      <td>...</td>\n      <td>1</td>\n      <td>0</td>\n      <td>0</td>\n      <td>0</td>\n      <td>0</td>\n      <td>0</td>\n      <td>0</td>\n      <td>0</td>\n      <td>0</td>\n      <td>0</td>\n    </tr>\n    <tr>\n      <th>4</th>\n      <td>183277</td>\n      <td>https://sofifa.com/player/183277/eden-hazard/2...</td>\n      <td>E. Hazard</td>\n      <td>Eden Hazard</td>\n      <td>28</td>\n      <td>1991-01-07</td>\n      <td>175</td>\n      <td>74</td>\n      <td>Belgium</td>\n      <td>Real Madrid</td>\n      <td>...</td>\n      <td>0</td>\n      <td>0</td>\n      <td>0</td>\n      <td>0</td>\n      <td>0</td>\n      <td>1</td>\n      <td>0</td>\n      <td>0</td>\n      <td>0</td>\n      <td>0</td>\n    </tr>\n  </tbody>\n</table>\n<p>5 rows × 149 columns</p>\n</div>"
     },
     "execution_count": 2,
     "metadata": {},
     "output_type": "execute_result"
    }
   ],
   "source": [
    "fifa_19=pd.read_csv(r'cleaned_data/players_19.csv',index_col='Unnamed: 0')\n",
    "fifa_19.head()\n",
    "fifa_20=pd.read_csv(r'cleaned_data/players_20.csv',index_col='Unnamed: 0')\n",
    "fifa_20.head()"
   ]
  },
  {
   "cell_type": "code",
   "execution_count": 3,
   "metadata": {
    "pycharm": {
     "name": "#%%\n"
    }
   },
   "outputs": [],
   "source": [
    "X_label=['age',\n",
    " 'height_cm',\n",
    " 'weight_kg',\n",
    " 'weak_foot',\n",
    " 'skill_moves',\n",
    " 'pace',\n",
    " 'shooting',\n",
    " 'passing',\n",
    " 'dribbling',\n",
    " 'defending',\n",
    " 'physic',\n",
    " 'gk_diving',\n",
    " 'gk_handling',\n",
    " 'gk_kicking',\n",
    " 'gk_reflexes',\n",
    " 'gk_speed',\n",
    " 'gk_positioning',\n",
    " 'attacking_crossing',\n",
    " 'attacking_finishing',\n",
    " 'attacking_heading_accuracy',\n",
    " 'attacking_short_passing',\n",
    " 'attacking_volleys',\n",
    " 'skill_dribbling',\n",
    " 'skill_curve',\n",
    " 'skill_fk_accuracy',\n",
    " 'skill_long_passing',\n",
    " 'skill_ball_control',\n",
    " 'movement_acceleration',\n",
    " 'movement_sprint_speed',\n",
    " 'movement_agility',\n",
    " 'movement_reactions',\n",
    " 'movement_balance',\n",
    " 'power_shot_power',\n",
    " 'power_jumping',\n",
    " 'power_stamina',\n",
    " 'power_strength',\n",
    " 'power_long_shots',\n",
    " 'mentality_aggression',\n",
    " 'mentality_interceptions',\n",
    " 'mentality_positioning',\n",
    " 'mentality_vision',\n",
    " 'mentality_penalties',\n",
    " 'mentality_composure',\n",
    " 'defending_marking',\n",
    " 'defending_standing_tackle',\n",
    " 'defending_sliding_tackle',\n",
    " 'goalkeeping_diving',\n",
    " 'goalkeeping_handling',\n",
    " 'goalkeeping_kicking',\n",
    " 'goalkeeping_positioning',\n",
    " 'goalkeeping_reflexes',\n",
    "]\n",
    "\n",
    "Y_label=[ 'player_positions_cb',\n",
    "          'player_positions_rwb',\n",
    "          'player_positions_cf',\n",
    "          'player_positions_st',\n",
    "          'player_positions_rw',\n",
    "          'player_positions_cam',\n",
    "          'player_positions_gk',\n",
    "          'player_positions_cdm',\n",
    "          'player_positions_rm',\n",
    "          'player_positions_lm',\n",
    "          'player_positions_cm',\n",
    "          'player_positions_lw',\n",
    "          'player_positions_lb',\n",
    "          'player_positions_rb',\n",
    "          'player_positions_lwb',\n",
    "          'preferred_foot_bin']"
   ]
  },
  {
   "cell_type": "code",
   "execution_count": 4,
   "outputs": [],
   "source": [
    "index_start=list(fifa_19.columns).index('player_positions_cb')\n",
    "index_end=list(fifa_19.columns).index('player_positions_lwb')\n"
   ],
   "metadata": {
    "collapsed": false,
    "pycharm": {
     "name": "#%%\n"
    }
   }
  },
  {
   "cell_type": "markdown",
   "source": [
    "如果我们加入age 这些，不知道有咩有用"
   ],
   "metadata": {
    "collapsed": false,
    "pycharm": {
     "name": "#%% md\n"
    }
   }
  },
  {
   "cell_type": "code",
   "execution_count": 5,
   "outputs": [
    {
     "data": {
      "text/plain": "array(['CF, RW, CAM, ST', 'CF, RW, CAM, ST', 'CB', ..., 'CB', 'CB', 'CB'],\n      dtype=object)"
     },
     "execution_count": 5,
     "metadata": {},
     "output_type": "execute_result"
    }
   ],
   "source": [
    "from  sklearn.ensemble import AdaBoostClassifier\n",
    "model=AdaBoostClassifier()\n",
    "model.fit(fifa_19[X_label],fifa_19.player_positions)\n",
    "model.predict(fifa_20[X_label])"
   ],
   "metadata": {
    "collapsed": false,
    "pycharm": {
     "name": "#%%\n"
    }
   }
  },
  {
   "cell_type": "code",
   "execution_count": 6,
   "outputs": [
    {
     "name": "stdout",
     "output_type": "stream",
     "text": [
      "this is the score: 0.2378866836678124\n"
     ]
    }
   ],
   "source": [
    "from sklearn.metrics import  accuracy_score\n",
    "print(f'this is the score: {accuracy_score(fifa_20.player_positions,model.predict(fifa_20[X_label]))}')"
   ],
   "metadata": {
    "collapsed": false,
    "pycharm": {
     "name": "#%%\n"
    }
   }
  },
  {
   "cell_type": "code",
   "execution_count": 7,
   "outputs": [
    {
     "name": "stdout",
     "output_type": "stream",
     "text": [
      "this is the score: 0.5748974387404369\n"
     ]
    }
   ],
   "source": [
    "from  sklearn.ensemble import RandomForestClassifier\n",
    "model_2=RandomForestClassifier()\n",
    "model_2.fit(fifa_19[X_label],fifa_19.player_positions)\n",
    "y=model_2.predict(fifa_20[X_label])\n",
    "print(f'this is the score: {accuracy_score(fifa_20.player_positions,y)}')\n"
   ],
   "metadata": {
    "collapsed": false,
    "pycharm": {
     "name": "#%%\n"
    }
   }
  },
  {
   "cell_type": "markdown",
   "source": [],
   "metadata": {
    "collapsed": false,
    "pycharm": {
     "name": "#%% md\n"
    }
   }
  },
  {
   "cell_type": "code",
   "execution_count": 8,
   "outputs": [
    {
     "name": "stdout",
     "output_type": "stream",
     "text": [
      "this is the best score 0.5742321765162435\n"
     ]
    }
   ],
   "source": [
    "from sklearn.model_selection import  cross_val_score\n",
    "len(X_label)\n",
    "test_scores=[]\n",
    "\n",
    "\n",
    "model = RandomForestClassifier(random_state=42, max_depth=50,n_estimators=100)\n",
    "model.fit(fifa_19[X_label], fifa_19.player_positions)\n",
    "test_scores.append( accuracy_score(fifa_20['player_positions'], model.predict(fifa_20[X_label])))\n",
    "print(f'this is the best score {max(test_scores)}')\n",
    "\n"
   ],
   "metadata": {
    "collapsed": false,
    "pycharm": {
     "name": "#%%\n"
    }
   }
  },
  {
   "cell_type": "code",
   "execution_count": 10,
   "outputs": [
    {
     "name": "stdout",
     "output_type": "stream",
     "text": [
      "this is the best score 0.5736223528107329\n"
     ]
    }
   ],
   "source": [
    "model = RandomForestClassifier(random_state=42, max_depth=30,n_estimators=80)\n",
    "model.fit(fifa_19[X_label], fifa_19.player_positions)\n",
    "S=accuracy_score(fifa_20['player_positions'], model.predict(fifa_20[X_label]))\n",
    "print(f'this is the best score {S}')\n"
   ],
   "metadata": {
    "collapsed": false,
    "pycharm": {
     "name": "#%%\n"
    }
   }
  },
  {
   "cell_type": "code",
   "execution_count": 11,
   "outputs": [
    {
     "name": "stdout",
     "output_type": "stream",
     "text": [
      "this is the best score 0.570296041689766\n"
     ]
    }
   ],
   "source": [
    "model = RandomForestClassifier(random_state=42, max_depth=20,n_estimators=200)\n",
    "model.fit(fifa_19[X_label], fifa_19.player_positions)\n",
    "S=accuracy_score(fifa_20['player_positions'], model.predict(fifa_20[X_label]))\n",
    "print(f'this is the best score {S}')"
   ],
   "metadata": {
    "collapsed": false,
    "pycharm": {
     "name": "#%%\n"
    }
   }
  },
  {
   "cell_type": "code",
   "execution_count": 14,
   "outputs": [
    {
     "data": {
      "text/plain": "       sofifa_id                                         player_url  \\\n0         158023  https://sofifa.com/player/158023/lionel-messi/...   \n1          20801  https://sofifa.com/player/20801/c-ronaldo-dos-...   \n2         190871  https://sofifa.com/player/190871/neymar-da-sil...   \n3         200389  https://sofifa.com/player/200389/jan-oblak/20/...   \n4         183277  https://sofifa.com/player/183277/eden-hazard/2...   \n...          ...                                                ...   \n15327     243585  https://sofifa.com/player/243585/gavin-bazunu/...   \n15347     252302  https://sofifa.com/player/252302/yasser-larouc...   \n15403     240913  https://sofifa.com/player/240913/caoimhin-kell...   \n16743     240473  https://sofifa.com/player/240473/tyreke-wilson...   \n17167     224947  https://sofifa.com/player/224947/daniel-grimsh...   \n\n              short_name                            long_name  age  \\\n0               L. Messi       Lionel Andrés Messi Cuccittini   32   \n1      Cristiano Ronaldo  Cristiano Ronaldo dos Santos Aveiro   34   \n2              Neymar Jr        Neymar da Silva Santos Junior   27   \n3               J. Oblak                            Jan Oblak   26   \n4              E. Hazard                          Eden Hazard   28   \n...                  ...                                  ...  ...   \n15327          G. Bazunu                         Gavin Bazunu   17   \n15347         Y. Larouci                       Yasser Larouci   18   \n15403        C. Kelleher                    Caoimhin Kelleher   20   \n16743          T. Wilson                        Tyreke Wilson   19   \n17167        D. Grimshaw                      Daniel Grimshaw   21   \n\n              dob  height_cm  weight_kg          nationality  \\\n0      1987-06-24        170         72            Argentina   \n1      1985-02-05        187         83             Portugal   \n2      1992-02-05        175         68               Brazil   \n3      1993-01-07        188         87             Slovenia   \n4      1991-01-07        175         74              Belgium   \n...           ...        ...        ...                  ...   \n15327  2002-02-20        188         73  Republic of Ireland   \n15347  2001-01-01        175         69              Algeria   \n15403  1998-11-23        188         69  Republic of Ireland   \n16743  1999-12-02        172         66  Republic of Ireland   \n17167  1998-01-16        185         77              England   \n\n                      club  ...  player_positions_gk  player_positions_cdm  \\\n0             FC Barcelona  ...                    0                     0   \n1                 Juventus  ...                    0                     0   \n2      Paris Saint-Germain  ...                    0                     0   \n3          Atlético Madrid  ...                    1                     0   \n4              Real Madrid  ...                    0                     0   \n...                    ...  ...                  ...                   ...   \n15327      Manchester City  ...                    1                     0   \n15347            Liverpool  ...                    0                     0   \n15403            Liverpool  ...                    1                     0   \n16743      Manchester City  ...                    0                     0   \n17167      Manchester City  ...                    1                     0   \n\n       player_positions_rm  player_positions_lm player_positions_cm  \\\n0                        0                    0                   0   \n1                        0                    0                   0   \n2                        0                    0                   0   \n3                        0                    0                   0   \n4                        0                    0                   0   \n...                    ...                  ...                 ...   \n15327                    0                    0                   0   \n15347                    0                    0                   0   \n15403                    0                    0                   0   \n16743                    0                    0                   0   \n17167                    0                    0                   0   \n\n      player_positions_lw  player_positions_lb  player_positions_rb  \\\n0                       0                    0                    0   \n1                       1                    0                    0   \n2                       1                    0                    0   \n3                       0                    0                    0   \n4                       1                    0                    0   \n...                   ...                  ...                  ...   \n15327                   0                    0                    0   \n15347                   0                    1                    0   \n15403                   0                    0                    0   \n16743                   0                    1                    0   \n17167                   0                    0                    0   \n\n       player_positions_lwb preferred_foot_bin  \n0                         0                  1  \n1                         0                  0  \n2                         0                  0  \n3                         0                  0  \n4                         0                  0  \n...                     ...                ...  \n15327                     0                  0  \n15347                     0                  1  \n15403                     0                  0  \n16743                     0                  1  \n17167                     0                  0  \n\n[287 rows x 149 columns]",
      "text/html": "<div>\n<style scoped>\n    .dataframe tbody tr th:only-of-type {\n        vertical-align: middle;\n    }\n\n    .dataframe tbody tr th {\n        vertical-align: top;\n    }\n\n    .dataframe thead th {\n        text-align: right;\n    }\n</style>\n<table border=\"1\" class=\"dataframe\">\n  <thead>\n    <tr style=\"text-align: right;\">\n      <th></th>\n      <th>sofifa_id</th>\n      <th>player_url</th>\n      <th>short_name</th>\n      <th>long_name</th>\n      <th>age</th>\n      <th>dob</th>\n      <th>height_cm</th>\n      <th>weight_kg</th>\n      <th>nationality</th>\n      <th>club</th>\n      <th>...</th>\n      <th>player_positions_gk</th>\n      <th>player_positions_cdm</th>\n      <th>player_positions_rm</th>\n      <th>player_positions_lm</th>\n      <th>player_positions_cm</th>\n      <th>player_positions_lw</th>\n      <th>player_positions_lb</th>\n      <th>player_positions_rb</th>\n      <th>player_positions_lwb</th>\n      <th>preferred_foot_bin</th>\n    </tr>\n  </thead>\n  <tbody>\n    <tr>\n      <th>0</th>\n      <td>158023</td>\n      <td>https://sofifa.com/player/158023/lionel-messi/...</td>\n      <td>L. Messi</td>\n      <td>Lionel Andrés Messi Cuccittini</td>\n      <td>32</td>\n      <td>1987-06-24</td>\n      <td>170</td>\n      <td>72</td>\n      <td>Argentina</td>\n      <td>FC Barcelona</td>\n      <td>...</td>\n      <td>0</td>\n      <td>0</td>\n      <td>0</td>\n      <td>0</td>\n      <td>0</td>\n      <td>0</td>\n      <td>0</td>\n      <td>0</td>\n      <td>0</td>\n      <td>1</td>\n    </tr>\n    <tr>\n      <th>1</th>\n      <td>20801</td>\n      <td>https://sofifa.com/player/20801/c-ronaldo-dos-...</td>\n      <td>Cristiano Ronaldo</td>\n      <td>Cristiano Ronaldo dos Santos Aveiro</td>\n      <td>34</td>\n      <td>1985-02-05</td>\n      <td>187</td>\n      <td>83</td>\n      <td>Portugal</td>\n      <td>Juventus</td>\n      <td>...</td>\n      <td>0</td>\n      <td>0</td>\n      <td>0</td>\n      <td>0</td>\n      <td>0</td>\n      <td>1</td>\n      <td>0</td>\n      <td>0</td>\n      <td>0</td>\n      <td>0</td>\n    </tr>\n    <tr>\n      <th>2</th>\n      <td>190871</td>\n      <td>https://sofifa.com/player/190871/neymar-da-sil...</td>\n      <td>Neymar Jr</td>\n      <td>Neymar da Silva Santos Junior</td>\n      <td>27</td>\n      <td>1992-02-05</td>\n      <td>175</td>\n      <td>68</td>\n      <td>Brazil</td>\n      <td>Paris Saint-Germain</td>\n      <td>...</td>\n      <td>0</td>\n      <td>0</td>\n      <td>0</td>\n      <td>0</td>\n      <td>0</td>\n      <td>1</td>\n      <td>0</td>\n      <td>0</td>\n      <td>0</td>\n      <td>0</td>\n    </tr>\n    <tr>\n      <th>3</th>\n      <td>200389</td>\n      <td>https://sofifa.com/player/200389/jan-oblak/20/...</td>\n      <td>J. Oblak</td>\n      <td>Jan Oblak</td>\n      <td>26</td>\n      <td>1993-01-07</td>\n      <td>188</td>\n      <td>87</td>\n      <td>Slovenia</td>\n      <td>Atlético Madrid</td>\n      <td>...</td>\n      <td>1</td>\n      <td>0</td>\n      <td>0</td>\n      <td>0</td>\n      <td>0</td>\n      <td>0</td>\n      <td>0</td>\n      <td>0</td>\n      <td>0</td>\n      <td>0</td>\n    </tr>\n    <tr>\n      <th>4</th>\n      <td>183277</td>\n      <td>https://sofifa.com/player/183277/eden-hazard/2...</td>\n      <td>E. Hazard</td>\n      <td>Eden Hazard</td>\n      <td>28</td>\n      <td>1991-01-07</td>\n      <td>175</td>\n      <td>74</td>\n      <td>Belgium</td>\n      <td>Real Madrid</td>\n      <td>...</td>\n      <td>0</td>\n      <td>0</td>\n      <td>0</td>\n      <td>0</td>\n      <td>0</td>\n      <td>1</td>\n      <td>0</td>\n      <td>0</td>\n      <td>0</td>\n      <td>0</td>\n    </tr>\n    <tr>\n      <th>...</th>\n      <td>...</td>\n      <td>...</td>\n      <td>...</td>\n      <td>...</td>\n      <td>...</td>\n      <td>...</td>\n      <td>...</td>\n      <td>...</td>\n      <td>...</td>\n      <td>...</td>\n      <td>...</td>\n      <td>...</td>\n      <td>...</td>\n      <td>...</td>\n      <td>...</td>\n      <td>...</td>\n      <td>...</td>\n      <td>...</td>\n      <td>...</td>\n      <td>...</td>\n      <td>...</td>\n    </tr>\n    <tr>\n      <th>15327</th>\n      <td>243585</td>\n      <td>https://sofifa.com/player/243585/gavin-bazunu/...</td>\n      <td>G. Bazunu</td>\n      <td>Gavin Bazunu</td>\n      <td>17</td>\n      <td>2002-02-20</td>\n      <td>188</td>\n      <td>73</td>\n      <td>Republic of Ireland</td>\n      <td>Manchester City</td>\n      <td>...</td>\n      <td>1</td>\n      <td>0</td>\n      <td>0</td>\n      <td>0</td>\n      <td>0</td>\n      <td>0</td>\n      <td>0</td>\n      <td>0</td>\n      <td>0</td>\n      <td>0</td>\n    </tr>\n    <tr>\n      <th>15347</th>\n      <td>252302</td>\n      <td>https://sofifa.com/player/252302/yasser-larouc...</td>\n      <td>Y. Larouci</td>\n      <td>Yasser Larouci</td>\n      <td>18</td>\n      <td>2001-01-01</td>\n      <td>175</td>\n      <td>69</td>\n      <td>Algeria</td>\n      <td>Liverpool</td>\n      <td>...</td>\n      <td>0</td>\n      <td>0</td>\n      <td>0</td>\n      <td>0</td>\n      <td>0</td>\n      <td>0</td>\n      <td>1</td>\n      <td>0</td>\n      <td>0</td>\n      <td>1</td>\n    </tr>\n    <tr>\n      <th>15403</th>\n      <td>240913</td>\n      <td>https://sofifa.com/player/240913/caoimhin-kell...</td>\n      <td>C. Kelleher</td>\n      <td>Caoimhin Kelleher</td>\n      <td>20</td>\n      <td>1998-11-23</td>\n      <td>188</td>\n      <td>69</td>\n      <td>Republic of Ireland</td>\n      <td>Liverpool</td>\n      <td>...</td>\n      <td>1</td>\n      <td>0</td>\n      <td>0</td>\n      <td>0</td>\n      <td>0</td>\n      <td>0</td>\n      <td>0</td>\n      <td>0</td>\n      <td>0</td>\n      <td>0</td>\n    </tr>\n    <tr>\n      <th>16743</th>\n      <td>240473</td>\n      <td>https://sofifa.com/player/240473/tyreke-wilson...</td>\n      <td>T. Wilson</td>\n      <td>Tyreke Wilson</td>\n      <td>19</td>\n      <td>1999-12-02</td>\n      <td>172</td>\n      <td>66</td>\n      <td>Republic of Ireland</td>\n      <td>Manchester City</td>\n      <td>...</td>\n      <td>0</td>\n      <td>0</td>\n      <td>0</td>\n      <td>0</td>\n      <td>0</td>\n      <td>0</td>\n      <td>1</td>\n      <td>0</td>\n      <td>0</td>\n      <td>1</td>\n    </tr>\n    <tr>\n      <th>17167</th>\n      <td>224947</td>\n      <td>https://sofifa.com/player/224947/daniel-grimsh...</td>\n      <td>D. Grimshaw</td>\n      <td>Daniel Grimshaw</td>\n      <td>21</td>\n      <td>1998-01-16</td>\n      <td>185</td>\n      <td>77</td>\n      <td>England</td>\n      <td>Manchester City</td>\n      <td>...</td>\n      <td>1</td>\n      <td>0</td>\n      <td>0</td>\n      <td>0</td>\n      <td>0</td>\n      <td>0</td>\n      <td>0</td>\n      <td>0</td>\n      <td>0</td>\n      <td>0</td>\n    </tr>\n  </tbody>\n</table>\n<p>287 rows × 149 columns</p>\n</div>"
     },
     "execution_count": 14,
     "metadata": {},
     "output_type": "execute_result"
    }
   ],
   "source": [
    "test_club=['FC Barcelona',\n",
    " 'FC Bayern München',\n",
    " 'Real Madrid',\n",
    "'Paris Saint-Germain',\n",
    " 'Juventus',\n",
    " 'Atlético Madrid',\n",
    " 'Manchester City',\n",
    "'Liverpool',\n",
    " 'Manchester United',]\n",
    "fifa_20.loc[fifa_20.club.isin(test_club)]"
   ],
   "metadata": {
    "collapsed": false,
    "pycharm": {
     "name": "#%%\n"
    }
   }
  },
  {
   "cell_type": "code",
   "execution_count": 16,
   "outputs": [
    {
     "data": {
      "text/plain": "0.6236933797909407"
     },
     "execution_count": 16,
     "metadata": {},
     "output_type": "execute_result"
    }
   ],
   "source": [
    "accuracy_score(fifa_20.loc[fifa_20.club.isin(test_club)].player_positions, model.predict(fifa_20.loc[fifa_20.club.isin(test_club)][X_label]))"
   ],
   "metadata": {
    "collapsed": false,
    "pycharm": {
     "name": "#%%\n"
    }
   }
  }
 ],
 "metadata": {
  "kernelspec": {
   "display_name": "Python 3.9.12 ('base')",
   "language": "python",
   "name": "python3"
  },
  "language_info": {
   "codemirror_mode": {
    "name": "ipython",
    "version": 3
   },
   "file_extension": ".py",
   "mimetype": "text/x-python",
   "name": "python",
   "nbconvert_exporter": "python",
   "pygments_lexer": "ipython3",
   "version": "3.9.12"
  },
  "orig_nbformat": 4,
  "vscode": {
   "interpreter": {
    "hash": "8b60b3ab4b8c1eedf2eea1ec0f0ad149077822031a421da87cb32a19a409f660"
   }
  }
 },
 "nbformat": 4,
 "nbformat_minor": 2
}